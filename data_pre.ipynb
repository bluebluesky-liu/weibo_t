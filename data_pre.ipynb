{
 "cells": [
  {
   "cell_type": "code",
   "execution_count": 1,
   "id": "6e8de38d-4b0e-4fdc-aa6a-d2a050385e2b",
   "metadata": {},
   "outputs": [],
   "source": [
    "import pandas as pd"
   ]
  },
  {
   "cell_type": "code",
   "execution_count": 2,
   "id": "54d09406-1a1b-41b9-b0a0-7bca931d223b",
   "metadata": {},
   "outputs": [],
   "source": [
    "path = './weibo_senti_100k.csv'"
   ]
  },
  {
   "cell_type": "code",
   "execution_count": 3,
   "id": "9ea23a5f-eee4-434c-ad0d-1c79d94948dc",
   "metadata": {},
   "outputs": [
    {
     "name": "stdout",
     "output_type": "stream",
     "text": [
      "评论数目（总体）：119988\n",
      "评论数目（正向）：59993\n",
      "评论数目（负向）：59995\n"
     ]
    }
   ],
   "source": [
    "pd_all = pd.read_csv('./weibo_senti_100k.csv')\n",
    "\n",
    "print('评论数目（总体）：%d' % pd_all.shape[0])\n",
    "print('评论数目（正向）：%d' % pd_all[pd_all.label==1].shape[0])\n",
    "print('评论数目（负向）：%d' % pd_all[pd_all.label==0].shape[0])"
   ]
  },
  {
   "cell_type": "code",
   "execution_count": 4,
   "id": "8dce5c73-c871-4ef2-b8f6-ea13cb606dd4",
   "metadata": {},
   "outputs": [
    {
     "data": {
      "text/html": [
       "<div>\n",
       "<style scoped>\n",
       "    .dataframe tbody tr th:only-of-type {\n",
       "        vertical-align: middle;\n",
       "    }\n",
       "\n",
       "    .dataframe tbody tr th {\n",
       "        vertical-align: top;\n",
       "    }\n",
       "\n",
       "    .dataframe thead th {\n",
       "        text-align: right;\n",
       "    }\n",
       "</style>\n",
       "<table border=\"1\" class=\"dataframe\">\n",
       "  <thead>\n",
       "    <tr style=\"text-align: right;\">\n",
       "      <th></th>\n",
       "      <th>label</th>\n",
       "      <th>review</th>\n",
       "    </tr>\n",
       "  </thead>\n",
       "  <tbody>\n",
       "    <tr>\n",
       "      <th>77912</th>\n",
       "      <td>0</td>\n",
       "      <td>是好，?是不好呢？抑或兼而有之。???，哈哥我撞破?袋也想之不出[抓狂]，到??上琪博兄@王...</td>\n",
       "    </tr>\n",
       "    <tr>\n",
       "      <th>94252</th>\n",
       "      <td>0</td>\n",
       "      <td>[怒]小编很气愤~</td>\n",
       "    </tr>\n",
       "    <tr>\n",
       "      <th>44210</th>\n",
       "      <td>1</td>\n",
       "      <td>所以说是胡来嘛。//@你爷爷我小的时候常在这里玩耍耶: [哈哈] 可是报价不低啊 我这有芒果...</td>\n",
       "    </tr>\n",
       "    <tr>\n",
       "      <th>93310</th>\n",
       "      <td>0</td>\n",
       "      <td>白天和晚上都太过于罪恶了……[泪][泪][泪]</td>\n",
       "    </tr>\n",
       "    <tr>\n",
       "      <th>69144</th>\n",
       "      <td>0</td>\n",
       "      <td>看不透最好,有盼头[思考][思考]//@滇雪一郎:看透人生[呵呵]，别看破红尘[失望]。//...</td>\n",
       "    </tr>\n",
       "    <tr>\n",
       "      <th>62361</th>\n",
       "      <td>0</td>\n",
       "      <td>霸气的城管~！我要当城管~！//@曦光散人: //@曦光散人: [威武]//@_佳多宝: #...</td>\n",
       "    </tr>\n",
       "    <tr>\n",
       "      <th>87527</th>\n",
       "      <td>0</td>\n",
       "      <td>GoldenJagua?r，饕餮报告：有图有真相，吃撑不说话。[抓狂]</td>\n",
       "    </tr>\n",
       "    <tr>\n",
       "      <th>24469</th>\n",
       "      <td>1</td>\n",
       "      <td>2012第十三届中国西部国际博览会(简称：西博会)将于2012年9月25-30日在成都世纪城...</td>\n",
       "    </tr>\n",
       "    <tr>\n",
       "      <th>114475</th>\n",
       "      <td>0</td>\n",
       "      <td>看看吧[馋嘴]知道什么叫肉食达人和主食达人？老北京酱肘子够硬！米粉肉够火候！干炸小虾够脆！豆...</td>\n",
       "    </tr>\n",
       "    <tr>\n",
       "      <th>19669</th>\n",
       "      <td>1</td>\n",
       "      <td>请给这样的年轻人浇一头大*吧。[哈哈]：初学者被置于阴暗的角落，浇上一头大粪，任其自生自灭。...</td>\n",
       "    </tr>\n",
       "    <tr>\n",
       "      <th>53426</th>\n",
       "      <td>1</td>\n",
       "      <td>哈哈哈哈！这个牛！//@vivian田小小: @王2娃娃 你懂得！！[哈哈]@新疆三宝 @飞...</td>\n",
       "    </tr>\n",
       "    <tr>\n",
       "      <th>24540</th>\n",
       "      <td>1</td>\n",
       "      <td>【#黄金100秒#微直播】[偷笑] 陕北姑娘崔苗把杨帆也打造成了陕北帅小伙，她能让杨帆也拥有...</td>\n",
       "    </tr>\n",
       "    <tr>\n",
       "      <th>16254</th>\n",
       "      <td>1</td>\n",
       "      <td>创意很不错，如果能把运动项目和每个人的特长联系起来，就更完美了。//@黄孙国: //@陈友余...</td>\n",
       "    </tr>\n",
       "    <tr>\n",
       "      <th>4057</th>\n",
       "      <td>1</td>\n",
       "      <td>虽然日常生活中感觉不到，但是找到了还是很幸福的[可爱] //@亓闻Wendy:转发微博</td>\n",
       "    </tr>\n",
       "    <tr>\n",
       "      <th>57905</th>\n",
       "      <td>1</td>\n",
       "      <td>最近主攻食补，厨艺日见进取，哈哈！长葫芦清炒越南蛤蜊肉，洋葱爆加州小牛肉，玉米炖韩国牛尾骨，...</td>\n",
       "    </tr>\n",
       "    <tr>\n",
       "      <th>112352</th>\n",
       "      <td>0</td>\n",
       "      <td>呃……好吧……31号看吧//@蓝巨星:原定于12月31日惠州博罗体育中心的\"浙江卫视2013...</td>\n",
       "    </tr>\n",
       "    <tr>\n",
       "      <th>40919</th>\n",
       "      <td>1</td>\n",
       "      <td>cute//@姚晨：小导弹，小捣蛋。//@马元:让子弹飞一会？[哈哈]</td>\n",
       "    </tr>\n",
       "    <tr>\n",
       "      <th>48029</th>\n",
       "      <td>1</td>\n",
       "      <td>公司birthday party下午茶[爱你][花心]爱巧克力[亲亲]</td>\n",
       "    </tr>\n",
       "    <tr>\n",
       "      <th>118695</th>\n",
       "      <td>0</td>\n",
       "      <td>失身超人！！@超仁超超 兄夜夜失身[泪] ，我们深表同情！@大董大懂 @洪瑞泽28  @好酒...</td>\n",
       "    </tr>\n",
       "    <tr>\n",
       "      <th>86483</th>\n",
       "      <td>0</td>\n",
       "      <td>亲，谢谢你一如既往的支持~名信片有的时候全球飞是会飞错方向滴[做鬼脸] 请私信我你的地址，从...</td>\n",
       "    </tr>\n",
       "  </tbody>\n",
       "</table>\n",
       "</div>"
      ],
      "text/plain": [
       "        label                                             review\n",
       "77912       0  是好，?是不好呢？抑或兼而有之。???，哈哥我撞破?袋也想之不出[抓狂]，到??上琪博兄@王...\n",
       "94252       0                                          [怒]小编很气愤~\n",
       "44210       1  所以说是胡来嘛。//@你爷爷我小的时候常在这里玩耍耶: [哈哈] 可是报价不低啊 我这有芒果...\n",
       "93310       0                            白天和晚上都太过于罪恶了……[泪][泪][泪]\n",
       "69144       0  看不透最好,有盼头[思考][思考]//@滇雪一郎:看透人生[呵呵]，别看破红尘[失望]。//...\n",
       "62361       0  霸气的城管~！我要当城管~！//@曦光散人: //@曦光散人: [威武]//@_佳多宝: #...\n",
       "87527       0                GoldenJagua?r，饕餮报告：有图有真相，吃撑不说话。[抓狂]\n",
       "24469       1  2012第十三届中国西部国际博览会(简称：西博会)将于2012年9月25-30日在成都世纪城...\n",
       "114475      0  看看吧[馋嘴]知道什么叫肉食达人和主食达人？老北京酱肘子够硬！米粉肉够火候！干炸小虾够脆！豆...\n",
       "19669       1  请给这样的年轻人浇一头大*吧。[哈哈]：初学者被置于阴暗的角落，浇上一头大粪，任其自生自灭。...\n",
       "53426       1  哈哈哈哈！这个牛！//@vivian田小小: @王2娃娃 你懂得！！[哈哈]@新疆三宝 @飞...\n",
       "24540       1  【#黄金100秒#微直播】[偷笑] 陕北姑娘崔苗把杨帆也打造成了陕北帅小伙，她能让杨帆也拥有...\n",
       "16254       1  创意很不错，如果能把运动项目和每个人的特长联系起来，就更完美了。//@黄孙国: //@陈友余...\n",
       "4057        1        虽然日常生活中感觉不到，但是找到了还是很幸福的[可爱] //@亓闻Wendy:转发微博\n",
       "57905       1  最近主攻食补，厨艺日见进取，哈哈！长葫芦清炒越南蛤蜊肉，洋葱爆加州小牛肉，玉米炖韩国牛尾骨，...\n",
       "112352      0  呃……好吧……31号看吧//@蓝巨星:原定于12月31日惠州博罗体育中心的\"浙江卫视2013...\n",
       "40919       1                cute//@姚晨：小导弹，小捣蛋。//@马元:让子弹飞一会？[哈哈]\n",
       "48029       1                公司birthday party下午茶[爱你][花心]爱巧克力[亲亲]\n",
       "118695      0  失身超人！！@超仁超超 兄夜夜失身[泪] ，我们深表同情！@大董大懂 @洪瑞泽28  @好酒...\n",
       "86483       0  亲，谢谢你一如既往的支持~名信片有的时候全球飞是会飞错方向滴[做鬼脸] 请私信我你的地址，从..."
      ]
     },
     "execution_count": 4,
     "metadata": {},
     "output_type": "execute_result"
    }
   ],
   "source": [
    "pd_all.sample(20)"
   ]
  },
  {
   "cell_type": "code",
   "execution_count": 5,
   "id": "834296bd-a098-4959-88c8-20d5704509ff",
   "metadata": {},
   "outputs": [
    {
     "name": "stdout",
     "output_type": "stream",
     "text": [
      "训练集大小: 95990\n",
      "测试集大小: 23998\n"
     ]
    }
   ],
   "source": [
    "from sklearn.model_selection import train_test_split\n",
    "\n",
    "\n",
    "# 假设您的数据集有两列：'text' 和 'label'\n",
    "X = pd_all['review']  # 特征列\n",
    "y = pd_all['label']  # 标签列\n",
    "\n",
    "# 划分训练集和测试集\n",
    "X_train, X_test, y_train, y_test = train_test_split(X, y, test_size=0.2, random_state=220)\n",
    "\n",
    "# 查看划分结果\n",
    "print(f\"训练集大小: {len(X_train)}\")\n",
    "print(f\"测试集大小: {len(X_test)}\")"
   ]
  },
  {
   "cell_type": "code",
   "execution_count": 6,
   "id": "7400b16d-89ea-489b-88ff-f5cbc628c486",
   "metadata": {},
   "outputs": [
    {
     "name": "stdout",
     "output_type": "stream",
     "text": [
      "训练集和测试集已保存到 CSV 文件中。\n"
     ]
    }
   ],
   "source": [
    "# 将训练集和测试集保存为新的 CSV 文件\n",
    "train_data = pd.DataFrame({'review': X_train, 'label': y_train})\n",
    "test_data = pd.DataFrame({'review': X_test, 'label': y_test})\n",
    "\n",
    "train_data.to_csv('./data/train_dataset.csv', index=False)\n",
    "test_data.to_csv('./data/test_dataset.csv', index=False)\n",
    "\n",
    "print(\"训练集和测试集已保存到 CSV 文件中。\")"
   ]
  },
  {
   "cell_type": "code",
   "execution_count": 7,
   "id": "86142f99-9833-4704-9905-8362cbedf7f9",
   "metadata": {},
   "outputs": [],
   "source": [
    "import jieba"
   ]
  },
  {
   "cell_type": "code",
   "execution_count": 8,
   "id": "d6976bcd-cdb3-4638-ac7a-04d06c0976bc",
   "metadata": {},
   "outputs": [
    {
     "name": "stdout",
     "output_type": "stream",
     "text": [
      "Successfully\n"
     ]
    }
   ],
   "source": [
    " # 数据读取\n",
    "def load_tsv(file_path):\n",
    "    data = pd.read_csv(file_path)\n",
    "    data_x = data.iloc[:, 0]\n",
    "    # 选择列名为 'col1' 和 'col3' 的列\n",
    "    #df_slice = df.loc[:, ['col1', 'col3']]\n",
    "    data_y = data.iloc[:, -1]\n",
    "    return data_x, data_y\n",
    " \n",
    "with open('./hit_stopwords.txt','r',encoding='UTF8') as f:\n",
    "    stop_words=[word.strip() for word in f.readlines()]\n",
    "    print('Successfully')\n",
    "def drop_stopword(datas):\n",
    "    for data in datas:\n",
    "        for word in data:\n",
    "            if word in stop_words:\n",
    "                data.remove(word)\n",
    "    return datas\n",
    " \n",
    "def save_data(datax,path):\n",
    "    with open(path, 'w', encoding=\"UTF8\") as f:\n",
    "        for lines in datax:\n",
    "            for i, line in enumerate(lines):\n",
    "                f.write(str(line))\n",
    "                # 如果不是最后一行，就添加一个逗号\n",
    "                if i != len(lines) - 1:\n",
    "                    f.write(',')\n",
    "            f.write('\\n')"
   ]
  },
  {
   "cell_type": "code",
   "execution_count": 9,
   "id": "498761d3-89cc-4945-aadb-618483fab7e6",
   "metadata": {},
   "outputs": [
    {
     "name": "stderr",
     "output_type": "stream",
     "text": [
      "Building prefix dict from the default dictionary ...\n",
      "Loading model from cache C:\\Users\\lilig\\AppData\\Local\\Temp\\jieba.cache\n",
      "Loading model cost 0.363 seconds.\n",
      "Prefix dict has been built successfully.\n"
     ]
    },
    {
     "name": "stdout",
     "output_type": "stream",
     "text": [
      "Successfully\n"
     ]
    }
   ],
   "source": [
    "if __name__ == '__main__':\n",
    "    train_x, train_y = load_tsv(\"./data/train_dataset.csv\")\n",
    "    test_x, test_y = load_tsv(\"./data/test_dataset.csv\")\n",
    "    train_x = [list(jieba.cut(x)) for x in train_x]\n",
    "    test_x = [list(jieba.cut(x)) for x in test_x]\n",
    "    train_x=drop_stopword(train_x)\n",
    "    test_x=drop_stopword(test_x)\n",
    "    save_data(train_x,'./train.txt')\n",
    "    save_data(test_x,'./test.txt')\n",
    "    print('Successfully')"
   ]
  }
 ],
 "metadata": {
  "kernelspec": {
   "display_name": "Python 3 (ipykernel)",
   "language": "python",
   "name": "python3"
  },
  "language_info": {
   "codemirror_mode": {
    "name": "ipython",
    "version": 3
   },
   "file_extension": ".py",
   "mimetype": "text/x-python",
   "name": "python",
   "nbconvert_exporter": "python",
   "pygments_lexer": "ipython3",
   "version": "3.9.20"
  }
 },
 "nbformat": 4,
 "nbformat_minor": 5
}
